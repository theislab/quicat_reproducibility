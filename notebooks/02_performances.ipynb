{
 "cells": [
  {
   "cell_type": "code",
   "execution_count": null,
   "id": "1fac47de-c62d-45b7-828d-0071c217a9bb",
   "metadata": {},
   "outputs": [],
   "source": [
    "import os\n",
    "\n",
    "import pandas as pd\n",
    "import numpy as np"
   ]
  },
  {
   "cell_type": "code",
   "execution_count": null,
   "id": "1a00277a-8714-4d1d-a1d7-e2687ca8661e",
   "metadata": {},
   "outputs": [],
   "source": [
    "import scanpy as sc\n",
    "import quicat\n",
    "from scipy import sparse as sp\n",
    "import matplotlib.pyplot as plt\n",
    "import seaborn as sb"
   ]
  },
  {
   "cell_type": "code",
   "execution_count": null,
   "id": "f35c8392-05ac-4bac-bd1e-4cbaa5fb56a0",
   "metadata": {},
   "outputs": [],
   "source": [
    "report_dir = '/home/daniele/Code/github_synced/barcoding/quicat_paper_code/reports/'"
   ]
  },
  {
   "cell_type": "code",
   "execution_count": null,
   "id": "a8e2cfb9-3e62-4384-bedd-b01617ff9ffe",
   "metadata": {},
   "outputs": [],
   "source": [
    "dpi = 300"
   ]
  },
  {
   "cell_type": "code",
   "execution_count": null,
   "id": "7ea00ee4-a1b3-4aae-84b2-72cfafc6275a",
   "metadata": {},
   "outputs": [],
   "source": [
    "synt = 'dna/synthetic/'\n",
    "yogesh = 'dna/yogesh/'\n",
    "sc_synth = 'single_cell/synthetic/'"
   ]
  },
  {
   "cell_type": "code",
   "execution_count": null,
   "id": "3ec5b48f-010a-40f0-b7fa-7c6a47922401",
   "metadata": {},
   "outputs": [],
   "source": [
    "def kb_to_gb(kb_value):\n",
    "    return float(kb_value) / 1048576\n",
    "\n",
    "def convert_to_seconds(time_str):\n",
    "    mm, ss = time_str.split(':')\n",
    "    ss, ms = ss.split('.')\n",
    "    total_seconds = int(mm) * 60 + int(ss) + float(f\"0.{ms}\")\n",
    "    return total_seconds"
   ]
  },
  {
   "cell_type": "code",
   "execution_count": null,
   "id": "5cae0ec0-cca6-4979-9df1-7756f60db448",
   "metadata": {},
   "outputs": [],
   "source": [
    "def extract_info(file_path):\n",
    "    info = {}\n",
    "    with open(file_path) as f:\n",
    "        lines = f.readlines()\n",
    "    for line in lines:\n",
    "        if 'Elapsed (wall clock) time' in line:\n",
    "            info['Elapsed time'] = convert_to_seconds(line.split(\": \")[1].strip())\n",
    "        elif 'Maximum resident set size (kbytes)' in line:\n",
    "            info['Peak memory'] = kb_to_gb(line.split(\": \")[1].strip())\n",
    "    return info"
   ]
  },
  {
   "cell_type": "code",
   "execution_count": null,
   "id": "3ddcf0d3-a885-4883-a92a-490c908d4562",
   "metadata": {},
   "outputs": [],
   "source": [
    "benchmark_dict = {}"
   ]
  },
  {
   "cell_type": "markdown",
   "id": "39fb83cb-4908-4931-932f-8e183609f61a",
   "metadata": {},
   "source": [
    "### bartab"
   ]
  },
  {
   "cell_type": "code",
   "execution_count": null,
   "id": "5701e657-45c4-4b20-a0f0-731efcad288d",
   "metadata": {},
   "outputs": [],
   "source": [
    "benchmark_dict['bartab'] = {}\n",
    "benchmark_dict['bartab']['dna synthethic'] = extract_info(f'{report_dir}{synt}bartab_dna_synthetic.log')\n",
    "benchmark_dict['bartab']['dna Goyal'] = extract_info(f'{report_dir}{yogesh}bartab_dna_yogesh.log')"
   ]
  },
  {
   "cell_type": "markdown",
   "id": "4884e139-924a-427d-9b8e-11bdfc8ab86a",
   "metadata": {},
   "source": [
    "### pycashier"
   ]
  },
  {
   "cell_type": "code",
   "execution_count": null,
   "id": "2f335ed9-5184-4f04-978b-17f56747687a",
   "metadata": {},
   "outputs": [],
   "source": [
    "benchmark_dict['pycashier'] = {}\n",
    "benchmark_dict['pycashier']['dna synthethic'] = extract_info(f'{report_dir}{synt}pycashier_dna_synthetic.log')\n",
    "benchmark_dict['pycashier']['dna Goyal'] = extract_info(f'{report_dir}{yogesh}pycashier_dna_yogesh.log')"
   ]
  },
  {
   "cell_type": "markdown",
   "id": "bec264e3-7f36-450c-bc0a-c8a85636aa8e",
   "metadata": {},
   "source": [
    "### quicat"
   ]
  },
  {
   "cell_type": "code",
   "execution_count": null,
   "id": "3e4cb3d7-f295-43a1-b582-0bc318e588e1",
   "metadata": {},
   "outputs": [],
   "source": [
    "benchmark_dict['quicat'] = {}\n",
    "benchmark_dict['quicat']['dna synthethic'] = extract_info(f'{report_dir}{synt}quicat_dna_synthetic.log')\n",
    "benchmark_dict['quicat']['dna Goyal'] = extract_info(f'{report_dir}{yogesh}quicat_dna_yogesh.log')"
   ]
  },
  {
   "cell_type": "code",
   "execution_count": null,
   "id": "43246d34-17aa-45bc-9fe0-0d8dfc46c2b8",
   "metadata": {},
   "outputs": [],
   "source": [
    "benchmark_dict"
   ]
  },
  {
   "cell_type": "markdown",
   "id": "3443ae31-112d-4bda-8483-b1299b2a2f94",
   "metadata": {},
   "source": [
    "### plot"
   ]
  },
  {
   "cell_type": "code",
   "execution_count": null,
   "id": "19478735-ab3a-41b0-83e7-0cae965d3da4",
   "metadata": {},
   "outputs": [],
   "source": [
    "color_mapping = {\n",
    "    'pycashier': '#332288',\n",
    "    'quicat': '#DDCC77',\n",
    "    'bartab': '#CC6677'\n",
    "}"
   ]
  },
  {
   "cell_type": "code",
   "execution_count": null,
   "id": "4bc9b0bd-584f-449c-b146-3b6494ec7761",
   "metadata": {},
   "outputs": [],
   "source": [
    "data_flattened=[]\n",
    "for tool, datasets in benchmark_dict.items():\n",
    "    for dataset, metrics in datasets.items():\n",
    "        data_flattened.append([tool, dataset, metrics['Elapsed time'], metrics['Peak memory']])\n",
    "df = pd.DataFrame(data_flattened, columns=['Tool', 'Dataset', 'Elapsed time (s)', 'Peak memory (GB)'])\n"
   ]
  },
  {
   "cell_type": "code",
   "execution_count": null,
   "id": "2f9bd296-1947-432a-bc75-a8652ed4be71",
   "metadata": {},
   "outputs": [],
   "source": [
    "datasets = df['Dataset'].unique()\n",
    "tools = df['Tool'].unique()"
   ]
  },
  {
   "cell_type": "code",
   "execution_count": null,
   "id": "3f4542b8-6a3b-4288-915a-8e3eee6d3a36",
   "metadata": {},
   "outputs": [],
   "source": [
    "fig, ax = plt.subplots(figsize=(8, 6))\n",
    "bar_width = 0.2\n",
    "index = np.arange(len(datasets))\n",
    "for i, tool in enumerate(tools):\n",
    "    tool_data = df[df['Tool'] == tool]\n",
    "    ax.bar(index + i * bar_width, tool_data['Elapsed time (s)'], bar_width, label=tool,  color=color_mapping[tool], edgecolor='black', alpha=0.3)\n",
    "\n",
    "ax.set_xlabel('Dataset')\n",
    "ax.set_ylabel('Elapsed Time (s)')\n",
    "ax.set_xticks(index + bar_width * (len(tools) - 1) / 2)\n",
    "ax.set_xticklabels(datasets)\n",
    "ax.legend()\n",
    "\n",
    "plt.tight_layout()\n",
    "plt.savefig(f'{report_dir}figures/fig2/barplot_runtime.pdf', dpi = dpi, bbox_inches='tight')\n",
    "plt.show()"
   ]
  },
  {
   "cell_type": "code",
   "execution_count": null,
   "id": "6de83075-ca07-41b2-af6a-43bfb4537fa2",
   "metadata": {},
   "outputs": [],
   "source": [
    "fig, (ax1, ax2) = plt.subplots(2, 1, sharex=True, figsize=(8, 6), gridspec_kw={'height_ratios': [1, 2]})\n",
    "\n",
    "bar_width = 0.2\n",
    "index = np.arange(len(datasets))\n",
    "\n",
    "for i, tool in enumerate(tools):\n",
    "    tool_data = df[df['Tool'] == tool]\n",
    "    \n",
    "    # Plot on both axes\n",
    "    ax1.bar(index + i * bar_width, tool_data['Elapsed time (s)'], bar_width, label=tool,  \n",
    "            color=color_mapping[tool], edgecolor='black', alpha=0.3)\n",
    "    ax2.bar(index + i * bar_width, tool_data['Elapsed time (s)'], bar_width, label=tool,  \n",
    "            color=color_mapping[tool], edgecolor='black', alpha=0.3)\n",
    "\n",
    "ax1.set_ylim(250, df['Elapsed time (s)'].max() *1.2)\n",
    "ax2.set_ylim(0, 150)\n",
    "\n",
    "ax1.spines['bottom'].set_visible(False)\n",
    "ax2.spines['top'].set_visible(False)\n",
    "\n",
    "d = .005  \n",
    "kwargs = dict(transform=ax1.transAxes, color='k', clip_on=False, lw=1)\n",
    "\n",
    "ax1.plot((-d, +d), (-d, +d), **kwargs)  \n",
    "ax1.plot((1 - d, 1 + d), (-d, +d), **kwargs) \n",
    "\n",
    "kwargs.update(transform=ax2.transAxes)  \n",
    "ax2.plot((-d, +d), (1 - d, 1 + d), **kwargs) \n",
    "ax2.plot((1 - d, 1 + d), (1 - d, 1 + d), **kwargs) \n",
    "\n",
    "ax2.set_xlabel('Dataset')\n",
    "ax2.set_xticks(index + bar_width * (len(tools) - 1) / 2)\n",
    "ax2.set_xticklabels(datasets)\n",
    "\n",
    "ax1.set_ylabel('Elapsed Time (s)')\n",
    "ax2.set_ylabel('Elapsed Time (s)')\n",
    "\n",
    "ax1.legend(loc='upper left', bbox_to_anchor=(0, 1.))\n",
    "\n",
    "plt.tight_layout()\n",
    "plt.savefig(f'{report_dir}figures/fig2/barplot_runtime_y_axis_split.pdf', dpi = dpi, bbox_inches='tight')\n",
    "\n",
    "plt.show()\n"
   ]
  },
  {
   "cell_type": "code",
   "execution_count": null,
   "id": "f4699fbd-88e2-4865-9c6f-e11aeb872acc",
   "metadata": {},
   "outputs": [],
   "source": [
    "fig, ax = plt.subplots(figsize=(8, 6))\n",
    "\n",
    "bar_width = 0.2\n",
    "index = np.arange(len(datasets))\n",
    "for i, tool in enumerate(tools):\n",
    "    tool_data = df[df['Tool'] == tool]\n",
    "    ax.bar(index + i * bar_width, tool_data['Peak memory (GB)'], bar_width, label=tool,color=color_mapping[tool], edgecolor='black', alpha=0.3)\n",
    "\n",
    "ax.set_xlabel('Dataset')\n",
    "ax.set_ylabel('Peak memory (Gb)')\n",
    "ax.set_xticks(index + bar_width * (len(tools) - 1) / 2)\n",
    "ax.set_xticklabels(datasets)\n",
    "ax.legend()\n",
    "\n",
    "plt.tight_layout()\n",
    "plt.savefig(f'{report_dir}figures/fig2/barplot_peak_memory.pdf', dpi = dpi, bbox_inches='tight')\n",
    "plt.show()"
   ]
  },
  {
   "cell_type": "code",
   "execution_count": null,
   "id": "869ff1d3-35e1-4dad-8ede-c28998ce5d49",
   "metadata": {},
   "outputs": [],
   "source": []
  }
 ],
 "metadata": {
  "kernelspec": {
   "display_name": "Python 3 (ipykernel)",
   "language": "python",
   "name": "python3"
  },
  "language_info": {
   "codemirror_mode": {
    "name": "ipython",
    "version": 3
   },
   "file_extension": ".py",
   "mimetype": "text/x-python",
   "name": "python",
   "nbconvert_exporter": "python",
   "pygments_lexer": "ipython3",
   "version": "3.10.11"
  }
 },
 "nbformat": 4,
 "nbformat_minor": 5
}
