{
 "cells": [
  {
   "cell_type": "code",
   "execution_count": null,
   "id": "1fac47de-c62d-45b7-828d-0071c217a9bb",
   "metadata": {},
   "outputs": [],
   "source": [
    "import os\n",
    "\n",
    "import pandas as pd\n",
    "import numpy as np\n",
    "\n",
    "import scanpy as sc\n",
    "import quicat\n",
    "from scipy import sparse as sp\n",
    "import matplotlib.pyplot as plt\n",
    "import seaborn as sns"
   ]
  },
  {
   "cell_type": "code",
   "execution_count": null,
   "id": "d230f5e9-c099-466a-b6a1-7052134d3b21",
   "metadata": {},
   "outputs": [],
   "source": [
    "reports_dir = '/home/daniele/Code/github_synced/barcoding/quicat_paper_code/reports/'\n",
    "dpi = 300"
   ]
  },
  {
   "cell_type": "markdown",
   "id": "ec82ce95-7c85-427e-afd0-7f614d3345f6",
   "metadata": {},
   "source": [
    "#### gep processing"
   ]
  },
  {
   "cell_type": "code",
   "execution_count": null,
   "id": "345e7db6-8f1b-4c0a-a545-56e13edbcaf0",
   "metadata": {},
   "outputs": [],
   "source": [
    "from scipy.stats import median_abs_deviation\n",
    "def is_outlier(adata, metric: str, nmads: int):\n",
    "    M = adata.obs[metric]\n",
    "    outlier = (M < np.median(M) - nmads * median_abs_deviation(M)) | (\n",
    "        np.median(M) + nmads * median_abs_deviation(M) < M\n",
    "    )\n",
    "    return outlier"
   ]
  },
  {
   "cell_type": "code",
   "execution_count": null,
   "id": "c63c63ba-131a-4d47-affd-acc429618985",
   "metadata": {},
   "outputs": [],
   "source": [
    "adata = sc.read_10x_h5('/mnt/storage/Daniele/clonal_toolkit_data/single-cell/flex_procodes/A40_01/sample_filtered_feature_bc_matrix.h5')\n",
    "adata.var_names_make_unique()\n",
    "adata.var_names = list(adata.var_names[:-2]) + ['Egfp','Mcherry']"
   ]
  },
  {
   "cell_type": "code",
   "execution_count": null,
   "id": "fa195b96-72e0-452f-9b3b-109245105920",
   "metadata": {},
   "outputs": [],
   "source": [
    "sc.pp.calculate_qc_metrics(adata, inplace=True)"
   ]
  },
  {
   "cell_type": "code",
   "execution_count": null,
   "id": "8b260aee-37ef-4c83-98b5-07183e74ae47",
   "metadata": {},
   "outputs": [],
   "source": [
    "adata.obs[\"log10_total_counts\"] = np.log10(adata.obs[\"total_counts\"])\n",
    "adata.obs[\"log10_n_genes_by_counts\"] = np.log10(adata.obs[\"n_genes_by_counts\"])"
   ]
  },
  {
   "cell_type": "code",
   "execution_count": null,
   "id": "9355fcca-d7eb-4b17-9922-50555a536183",
   "metadata": {},
   "outputs": [],
   "source": [
    "adata.obs[\"outlier\"] = (\n",
    "    is_outlier(adata, \"total_counts\", 2)\n",
    "    | is_outlier(adata, \"n_genes_by_counts\", 2)\n",
    "    | is_outlier(adata, \"pct_counts_in_top_50_genes\", 2)\n",
    ")\n",
    "adata.obs.outlier.value_counts()"
   ]
  },
  {
   "cell_type": "code",
   "execution_count": null,
   "id": "0a72f871-c8f2-45e7-818e-f6d45555db0a",
   "metadata": {},
   "outputs": [],
   "source": [
    "sc.pl.scatter(adata, x = 'log1p_total_counts', y = 'log1p_n_genes_by_counts', color = 'outlier')"
   ]
  },
  {
   "cell_type": "code",
   "execution_count": null,
   "id": "23f1c189-4c7f-450c-a068-73c1a80063be",
   "metadata": {},
   "outputs": [],
   "source": [
    "adata = adata[~adata.obs.outlier].copy()"
   ]
  },
  {
   "cell_type": "code",
   "execution_count": null,
   "id": "3b70e24e-820e-4797-9829-c99bbf6dfdd9",
   "metadata": {
    "scrolled": true
   },
   "outputs": [],
   "source": [
    "adata.layers['raw_counts'] = adata.X.copy()\n",
    "sc.pp.normalize_total(adata)\n",
    "sc.pp.log1p(adata)\n",
    "sc.pp.highly_variable_genes(adata, flavor = 'seurat')\n",
    "sc.pp.pca(adata, mask_var=\"highly_variable\")\n",
    "sc.pp.neighbors(adata)\n",
    "sc.tl.umap(adata)\n",
    "sc.tl.leiden(adata, resolution=.2)"
   ]
  },
  {
   "cell_type": "code",
   "execution_count": null,
   "id": "100e0f58-5f06-4c4f-8e0a-03accac2eedd",
   "metadata": {},
   "outputs": [],
   "source": [
    "sc.tl.leiden(adata, resolution=.25)"
   ]
  },
  {
   "cell_type": "markdown",
   "id": "08152559-61c6-4cb3-88d7-65f0e74501a1",
   "metadata": {},
   "source": [
    "#### barcodes processing"
   ]
  },
  {
   "cell_type": "code",
   "execution_count": null,
   "id": "de950a4e-370d-47c5-82fe-3544d4b7f447",
   "metadata": {},
   "outputs": [],
   "source": [
    "clone_mapping = {\n",
    "    'clone_1': ['Au1_link', 'C_link', 'Ollas_cherry'],\n",
    "    'clone_2': ['Flag_link', 'Ha_cherry'],\n",
    "    'clone_3': ['Flag_link', 'S_link', 'VSVg_cherry'],\n",
    "    'clone_4': ['Flag_link','Ha_link','Nws_cherry'],\n",
    "    'clone_5' : ['S_link','V5_cherry']\n",
    "}"
   ]
  },
  {
   "cell_type": "code",
   "execution_count": null,
   "id": "9d847e54-b85a-4a16-bc72-f87d7e522b15",
   "metadata": {
    "scrolled": true
   },
   "outputs": [],
   "source": [
    "quicat_adata = quicat.read_sc('/mnt/storage/Daniele/quicat_benchmark/single-cell/flex_procodes/bam/quicat/barcodes_output.csv')"
   ]
  },
  {
   "cell_type": "code",
   "execution_count": null,
   "id": "dc1bb402-7d50-4c79-8e0c-ce4bea303ebf",
   "metadata": {},
   "outputs": [],
   "source": [
    "quicat_adata = quicat.tl.assign_clones(quicat_adata, clone_mapping, threshold=.75)"
   ]
  },
  {
   "cell_type": "code",
   "execution_count": null,
   "id": "c78d4596-03f0-44e8-96be-9a5d3df39c32",
   "metadata": {},
   "outputs": [],
   "source": [
    "quicat.pl.barplot(\n",
    "    quicat_adata, \n",
    "    groupby = 'n_barcodes_by_counts', \n",
    "    color = '#DDCC77',\n",
    "    xlabel = 'barcodes per cell', \n",
    "    edgecolor='black',  \n",
    "    dpi=dpi,\n",
    "    save = f'{reports_dir}figures/fig3/barplot_nr_of_barcode.pdf'\n",
    ")"
   ]
  },
  {
   "cell_type": "code",
   "execution_count": null,
   "id": "9190bef0-aa34-4606-b0b1-460ef49ebc93",
   "metadata": {},
   "outputs": [],
   "source": [
    "sc.pp.normalize_total(quicat_adata)\n",
    "sc.pp.log1p(quicat_adata)"
   ]
  },
  {
   "cell_type": "markdown",
   "id": "46fcc882-6b8b-4f2e-a68d-b66b1fee78ab",
   "metadata": {},
   "source": [
    "#### merge adatas"
   ]
  },
  {
   "cell_type": "code",
   "execution_count": null,
   "id": "47d389c3-507a-421c-8f3d-41729fa9dbeb",
   "metadata": {},
   "outputs": [],
   "source": [
    "adata.obs['n_barcodes_by_counts'] = quicat_adata.obs['n_barcodes_by_counts'].fillna(0)\n",
    "adata.obs['clone'] = quicat_adata.obs['clone'].astype('category').cat.add_categories('Non-barcoded cells')\n",
    "adata.obs['clone'] = adata.obs['clone'].fillna('Non-barcoded cells')\n",
    "adata = adata[adata.obs['clone'] != 'Unassigned'].copy()"
   ]
  },
  {
   "cell_type": "markdown",
   "id": "2003ae32-4209-4d5d-86b4-f31abf6b9d92",
   "metadata": {},
   "source": [
    "#### Figures"
   ]
  },
  {
   "cell_type": "code",
   "execution_count": null,
   "id": "2f0e5861-a642-4635-83a1-2f79d29e2a77",
   "metadata": {},
   "outputs": [],
   "source": [
    "random_indices = np.random.permutation(list(range(adata.shape[0])))"
   ]
  },
  {
   "cell_type": "code",
   "execution_count": null,
   "id": "29f65dec-07d2-4464-8054-4ad2a9e42a23",
   "metadata": {},
   "outputs": [],
   "source": [
    "clone_palette = sns.color_palette('colorblind', n_colors=len(adata.obs['clone'].unique()))"
   ]
  },
  {
   "cell_type": "code",
   "execution_count": null,
   "id": "00234db2-b397-4abc-a86a-65c785e8eeae",
   "metadata": {},
   "outputs": [],
   "source": [
    "quicat_adata_filtered = quicat_adata[quicat_adata.obs['clone'] != 'Unassigned'].copy()"
   ]
  },
  {
   "cell_type": "code",
   "execution_count": null,
   "id": "1ad1271f-e545-443e-adec-cd6b2d7eb3de",
   "metadata": {},
   "outputs": [],
   "source": [
    "quicat_adata_filtered.uns['clone_colors'] = clone_palette"
   ]
  },
  {
   "cell_type": "code",
   "execution_count": null,
   "id": "8c1de8a4-7ad1-4e48-8c37-cd91f48dc59e",
   "metadata": {},
   "outputs": [],
   "source": [
    "sc.pp.pca(quicat_adata_filtered)"
   ]
  },
  {
   "cell_type": "code",
   "execution_count": null,
   "id": "359a2a67-84a1-47fd-a5ac-0133baca28fd",
   "metadata": {},
   "outputs": [],
   "source": [
    "sc.pl.pca(quicat_adata_filtered, color = 'clone', palette = clone_palette)"
   ]
  },
  {
   "cell_type": "code",
   "execution_count": null,
   "id": "ef1e1bae-e51b-4aa9-a84c-fccc4bdff210",
   "metadata": {},
   "outputs": [],
   "source": [
    "sc.pl.umap(adata, color = ['clone'], palette = clone_palette, na_color = 'white')"
   ]
  },
  {
   "cell_type": "code",
   "execution_count": null,
   "id": "455bf2e5-c75f-4f4a-972e-7534436d8188",
   "metadata": {},
   "outputs": [],
   "source": [
    "ax = sc.pl.heatmap(\n",
    "    quicat_adata_filtered, \n",
    "    groupby='clone', \n",
    "    var_names=quicat_adata.var_names, \n",
    "    cmap='cividis', \n",
    "    vmax=5,\n",
    "    figsize=(4, 6),\n",
    "    show=False,\n",
    ")\n",
    "plt.title('')\n",
    "plt.grid(False)\n",
    "\n",
    "\n",
    "plt.savefig(f'{reports_dir}figures/fig3/heatmap_procodes.pdf', dpi = dpi, bbox_inches='tight')"
   ]
  },
  {
   "cell_type": "code",
   "execution_count": null,
   "id": "7c48c594-9602-41a1-82a5-0c2cfc547fb3",
   "metadata": {},
   "outputs": [],
   "source": [
    "ax = sc.pl.dotplot(\n",
    "    quicat_adata_filtered, \n",
    "    groupby='clone', \n",
    "    var_names=quicat_adata.var_names, \n",
    "    cmap='cividis', \n",
    "    vmax=4,\n",
    "    figsize=(6, 3),\n",
    "    show=False\n",
    ")\n",
    "plt.title('')\n",
    "plt.grid(False)\n",
    "plt.savefig(f'{reports_dir}figures/fig3/dotplot_procodes.pdf', dpi = dpi, bbox_inches='tight')"
   ]
  },
  {
   "cell_type": "code",
   "execution_count": null,
   "id": "61193acf-89f6-418e-b0b6-b2110bc1152b",
   "metadata": {},
   "outputs": [],
   "source": [
    "sc.pl.umap(adata, color = ['clone'], palette = clone_palette, na_color = 'white')"
   ]
  },
  {
   "cell_type": "code",
   "execution_count": null,
   "id": "4e6551a3-1fb8-4e8e-9464-0976d0ed947f",
   "metadata": {},
   "outputs": [],
   "source": [
    "quicat.pl.stacked_barplot(\n",
    "    adata=adata,\n",
    "    groupby='leiden',\n",
    "    obs_key='clone',\n",
    "    figsize=(12, 8),\n",
    "    xlabel='Leiden Cluster',\n",
    "    ylabel='Cell Type Distribution (%)',\n",
    "    title='',\n",
    "    palette = clone_palette,\n",
    "    edgecolor='black',        \n",
    "    linewidth=1.5,  \n",
    "    dpi=dpi,\n",
    "    save = f'{reports_dir}figures/fig3/stacked_barplot_leiden_by_clone.pdf'         \n",
    ")"
   ]
  },
  {
   "cell_type": "code",
   "execution_count": null,
   "id": "0f087064-7ff4-4d02-a73a-d79ad21d6152",
   "metadata": {},
   "outputs": [],
   "source": [
    "sc.pl.umap(adata[random_indices, :], \n",
    "           color=['clone'],\n",
    "           groups = [f'clone_{i+1}' for i in range(5)] + ['No barcodes'],\n",
    "           na_in_legend=False,\n",
    "           size=50, \n",
    "           edgecolor='k', \n",
    "           linewidth=0.2, \n",
    "           alpha=1, \n",
    "           #title='UMAP of Samples', \n",
    "           #legend_loc='on data',\n",
    "           frameon = False,\n",
    "           legend_fontsize=8, \n",
    "           legend_fontweight='bold',\n",
    "           show = False,\n",
    "           vmax = 2,\n",
    "        )\n",
    "\n",
    "plt.title('')\n",
    "plt.grid(False)\n",
    "plt.savefig(f'{reports_dir}figures/fig3/umap_clone_only_barcoded_cells.pdf', dpi = dpi, bbox_inches='tight')"
   ]
  },
  {
   "cell_type": "code",
   "execution_count": null,
   "id": "eeefadae-7e40-4721-b76d-b6a71642b8ae",
   "metadata": {},
   "outputs": [],
   "source": [
    "sc.pl.umap(adata[random_indices, :], \n",
    "           color=['clone'],\n",
    "           na_in_legend=False,\n",
    "           size=50, \n",
    "           edgecolor='k', \n",
    "           linewidth=0.2, \n",
    "           alpha=1, \n",
    "           #title='UMAP of Samples', \n",
    "           #legend_loc='on data',\n",
    "           frameon = False,\n",
    "           legend_fontsize=8, \n",
    "           legend_fontweight='bold',\n",
    "           show = False,\n",
    "           vmax = 2,\n",
    "        )\n",
    "\n",
    "plt.title('')\n",
    "plt.grid(False)\n",
    "plt.savefig(f'{reports_dir}figures/fig3/umap_clone.pdf', dpi = dpi, bbox_inches='tight')"
   ]
  },
  {
   "cell_type": "code",
   "execution_count": null,
   "id": "cadcf96a-21c6-49e6-a87b-4eb44bf15c06",
   "metadata": {},
   "outputs": [],
   "source": [
    "sc.pl.umap(adata[random_indices, :], \n",
    "           color=['leiden'],\n",
    "           na_in_legend=False,\n",
    "           size=50, \n",
    "           edgecolor='k', \n",
    "           linewidth=0.2, \n",
    "           alpha=1, \n",
    "           #title='UMAP of Samples', \n",
    "           #legend_loc='on data',\n",
    "           frameon = False,\n",
    "           legend_fontsize=8, \n",
    "           legend_fontweight='bold',\n",
    "           show = False,\n",
    "           palette='tab20',\n",
    "        )\n",
    "\n",
    "plt.title('')\n",
    "plt.grid(False)\n",
    "plt.savefig(f'{reports_dir}figures/fig3/umap_leiden.pdf', dpi = dpi, bbox_inches='tight')"
   ]
  },
  {
   "cell_type": "code",
   "execution_count": null,
   "id": "914d0692-ff05-4ec4-ba35-9e8e612b55ae",
   "metadata": {},
   "outputs": [],
   "source": [
    "sc.pl.umap(adata[random_indices, :], \n",
    "           color=['Mcherry'],\n",
    "           na_in_legend=False,\n",
    "           size=50, \n",
    "           edgecolor='k', \n",
    "           linewidth=0.2, \n",
    "           alpha=1, \n",
    "           #title='UMAP of Samples', \n",
    "           #legend_loc='on data',\n",
    "           frameon = False,\n",
    "           legend_fontsize=8, \n",
    "           legend_fontweight='bold',\n",
    "           show = False,\n",
    "           vmax = 7,\n",
    "           cmap = 'cividis'\n",
    "           \n",
    "        )\n",
    "\n",
    "plt.title('')\n",
    "plt.grid(False)\n",
    "plt.savefig(f'{reports_dir}figures/fig3/umap_mCherry.pdf', dpi = dpi, bbox_inches='tight')"
   ]
  },
  {
   "cell_type": "code",
   "execution_count": null,
   "id": "9b8d8cc5-372f-40ee-9dd5-195cebaa9aed",
   "metadata": {},
   "outputs": [],
   "source": [
    "df_procodes = quicat_adata.to_df()\n",
    "for procode_tag in df_procodes.columns:\n",
    "    adata.obs[procode_tag] = df_procodes[procode_tag].fillna(0)\n",
    "    adata.obs[procode_tag] = adata.obs[procode_tag].fillna(0)\n",
    "    "
   ]
  },
  {
   "cell_type": "code",
   "execution_count": null,
   "id": "b1e60346-6b42-428c-bd6e-f22bbfa19848",
   "metadata": {},
   "outputs": [],
   "source": [
    "for procode_tag in df_procodes.columns:\n",
    "    sc.pl.umap(adata, \n",
    "           color=procode_tag,\n",
    "           na_in_legend=False,\n",
    "           size=50, \n",
    "           edgecolor='k', \n",
    "           linewidth=0.2, \n",
    "           alpha=1, \n",
    "\n",
    "           frameon = False,\n",
    "           legend_fontsize=8, \n",
    "           legend_fontweight='bold',\n",
    "           show = False,\n",
    "           cmap = 'cividis'\n",
    "        )\n",
    "    plt.title('')\n",
    "    plt.grid(False)\n",
    "    plt.savefig(f'{reports_dir}figures/fig3/umap_{procode_tag}.pdf', dpi = dpi, bbox_inches='tight')"
   ]
  },
  {
   "cell_type": "code",
   "execution_count": null,
   "id": "a704b4d3-78f2-4417-9f0d-920a2fbb9ee3",
   "metadata": {},
   "outputs": [],
   "source": [
    "clone_1 = adata[(adata.obs.clone == 'clone_1') & (adata.obs.leiden.isin(['0','8']))].copy()"
   ]
  },
  {
   "cell_type": "code",
   "execution_count": null,
   "id": "fb4127f6-1f38-41c4-b205-d29f44ee3382",
   "metadata": {},
   "outputs": [],
   "source": [
    "sc.tl.rank_genes_groups(clone_1, groupby='leiden')"
   ]
  },
  {
   "cell_type": "code",
   "execution_count": null,
   "id": "c7b5cc8d-9d91-4969-9501-c00b607734d6",
   "metadata": {},
   "outputs": [],
   "source": [
    "sc.pl.rank_genes_groups_dotplot(clone_1, values_to_plot = 'logfoldchanges', vmin = -2.5, vmax = 2.5, cmap = 'coolwarm', n_genes = 10, show = False)\n",
    "plt.savefig(f'{reports_dir}figures/fig3/dotplot_leiden_dge_clone_1_zoom_in.pdf', dpi = dpi, bbox_inches='tight')"
   ]
  },
  {
   "cell_type": "code",
   "execution_count": null,
   "id": "0a3c1e13-94f1-4613-a81b-f91df04f573a",
   "metadata": {},
   "outputs": [],
   "source": [
    "sc.tl.umap(clone_1)"
   ]
  },
  {
   "cell_type": "code",
   "execution_count": null,
   "id": "a3c2b88e-88df-4720-9595-0dc19a1de48a",
   "metadata": {},
   "outputs": [],
   "source": [
    "palette = sns.color_palette('tab20')"
   ]
  },
  {
   "cell_type": "code",
   "execution_count": null,
   "id": "13d5ec65-d2ec-4752-bd2c-6fb135945523",
   "metadata": {},
   "outputs": [],
   "source": [
    "palette = [palette[0], palette[16]]"
   ]
  },
  {
   "cell_type": "code",
   "execution_count": null,
   "id": "7c8cfcf8-9adf-4e62-89e6-08c6233e5f20",
   "metadata": {},
   "outputs": [],
   "source": [
    "sc.pl.umap(clone_1, \n",
    "           color=['leiden'],\n",
    "           na_in_legend=False,\n",
    "           size=200, \n",
    "           edgecolor='k', \n",
    "           linewidth=0.2, \n",
    "           alpha=1, \n",
    "           frameon = False,\n",
    "           legend_fontsize=8, \n",
    "           legend_fontweight='bold',\n",
    "           show = False,\n",
    "           palette = palette,           \n",
    "        )\n",
    "\n",
    "plt.title('')\n",
    "plt.grid(False)\n",
    "plt.savefig(f'{reports_dir}figures/fig3/umap_clone_1_zoom_in.pdf', dpi = dpi, bbox_inches='tight')"
   ]
  },
  {
   "cell_type": "code",
   "execution_count": null,
   "id": "5fac9cb2-024b-4a87-b3f2-0260a978cbed",
   "metadata": {},
   "outputs": [],
   "source": [
    "top_genes_leiden_8 = sc.get.rank_genes_groups_df(clone_1, group = '8')['names'].values[:10]"
   ]
  },
  {
   "cell_type": "code",
   "execution_count": null,
   "id": "7467c676-d210-437e-b546-64b50f1dbb42",
   "metadata": {},
   "outputs": [],
   "source": [
    "for gene in top_genes_leiden_8:\n",
    "    sc.pl.umap(clone_1, \n",
    "           color=gene,\n",
    "           na_in_legend=False,\n",
    "           size=200, \n",
    "           edgecolor='k', \n",
    "           linewidth=0.2, \n",
    "           alpha=1, \n",
    "           frameon = False,\n",
    "           legend_fontsize=8, \n",
    "           legend_fontweight='bold',\n",
    "           show = False,\n",
    "           cmap = 'cividis'\n",
    "        )\n",
    "    plt.title('')\n",
    "    plt.grid(False)\n",
    "    plt.savefig(f'{reports_dir}figures/fig3/umap_clone_1_{gene}.pdf', dpi = dpi, bbox_inches='tight')"
   ]
  },
  {
   "cell_type": "code",
   "execution_count": null,
   "id": "49fad1b6-24e5-4785-8473-1d1ac34b39f3",
   "metadata": {},
   "outputs": [],
   "source": [
    "import decoupler as dc"
   ]
  },
  {
   "cell_type": "code",
   "execution_count": null,
   "id": "2aac5842-9616-4f9c-89bd-ffa490b49d6f",
   "metadata": {},
   "outputs": [],
   "source": [
    "msigdb = dc.get_resource('MSigDB')\n"
   ]
  },
  {
   "cell_type": "code",
   "execution_count": null,
   "id": "429e4600-40bd-4183-a807-f2c1e46084e8",
   "metadata": {},
   "outputs": [],
   "source": [
    "msigdb = msigdb[msigdb['collection']=='hallmark']\n",
    "msigdb = msigdb[~msigdb.duplicated(['geneset', 'genesymbol'])]\n"
   ]
  },
  {
   "cell_type": "code",
   "execution_count": null,
   "id": "4661c6b7-855f-4844-beae-edfea6e8f73d",
   "metadata": {},
   "outputs": [],
   "source": [
    "msigdb_mouse = dc.translate_net(\n",
    "    msigdb,\n",
    "    target_organism='mouse',\n",
    ")\n",
    "msigdb_mouse = msigdb_mouse[~msigdb_mouse.duplicated(['geneset', 'genesymbol'])]\n"
   ]
  },
  {
   "cell_type": "code",
   "execution_count": null,
   "id": "39362578-36ee-45c1-b464-8cf39adb7001",
   "metadata": {},
   "outputs": [],
   "source": [
    "dc.run_ora(\n",
    "    mat=clone_1,\n",
    "    net=msigdb_mouse,\n",
    "    source='geneset',\n",
    "    target='genesymbol',\n",
    "    verbose=True,\n",
    "    use_raw=False\n",
    ")"
   ]
  },
  {
   "cell_type": "code",
   "execution_count": null,
   "id": "450324f8-8405-4e2c-812f-70dace40601f",
   "metadata": {},
   "outputs": [],
   "source": [
    "acts = dc.get_acts(clone_1, obsm_key='ora_estimate')\n",
    "acts_v = acts.X.ravel()\n",
    "max_e = np.nanmax(acts_v[np.isfinite(acts_v)])\n",
    "acts.X[~np.isfinite(acts.X)] = max_e"
   ]
  },
  {
   "cell_type": "code",
   "execution_count": null,
   "id": "42fab793-e40e-41cd-948f-b4092724755b",
   "metadata": {},
   "outputs": [],
   "source": [
    "df = dc.rank_sources_groups(acts, groupby='leiden', reference='rest', method='t-test_overestim_var')\n",
    "n_markers = 5\n",
    "source_markers = df.groupby('group').head(n_markers).groupby('group')['names'].apply(lambda x: list(x)).to_dict()"
   ]
  },
  {
   "cell_type": "code",
   "execution_count": null,
   "id": "a281ea57-d3eb-4c25-99ec-ed3276d50c79",
   "metadata": {},
   "outputs": [],
   "source": [
    "sc.pl.dotplot(acts, source_markers, 'leiden', dendrogram=False, standard_scale='var',\n",
    "                 colorbar_title='Z-scaled scores', cmap='coolwarm', figsize=(6,2), show = False)\n",
    "plt.savefig(f'{reports_dir}figures/fig3/umap_clone_1_enrichment_dotplot.pdf', dpi = dpi, bbox_inches='tight')"
   ]
  },
  {
   "cell_type": "code",
   "execution_count": null,
   "id": "d8b1c2e7-e234-49a0-b9c0-898339228600",
   "metadata": {},
   "outputs": [],
   "source": []
  }
 ],
 "metadata": {
  "kernelspec": {
   "display_name": "Python 3 (ipykernel)",
   "language": "python",
   "name": "python3"
  },
  "language_info": {
   "codemirror_mode": {
    "name": "ipython",
    "version": 3
   },
   "file_extension": ".py",
   "mimetype": "text/x-python",
   "name": "python",
   "nbconvert_exporter": "python",
   "pygments_lexer": "ipython3",
   "version": "3.11.10"
  }
 },
 "nbformat": 4,
 "nbformat_minor": 5
}
