{
 "cells": [
  {
   "cell_type": "code",
   "execution_count": null,
   "id": "1fac47de-c62d-45b7-828d-0071c217a9bb",
   "metadata": {},
   "outputs": [],
   "source": [
    "import os\n",
    "\n",
    "import pandas as pd\n",
    "import numpy as np\n",
    "\n",
    "import scanpy as sc\n",
    "import quicat\n",
    "\n",
    "#from venny4py.venny4py import *\n",
    "from upsetplot import UpSet, from_memberships\n",
    "\n",
    "import matplotlib.pyplot as plt\n",
    "import seaborn as sb"
   ]
  },
  {
   "cell_type": "code",
   "execution_count": null,
   "id": "74a4e6c4-d993-4e11-9adc-54c84c5d154e",
   "metadata": {},
   "outputs": [],
   "source": [
    "reports_dir = '/home/daniele/Code/github_synced/barcoding/quicat_paper_code/reports/'\n",
    "dpi=300"
   ]
  },
  {
   "cell_type": "markdown",
   "id": "e1b34662-fce9-470e-ba10-b380a8194039",
   "metadata": {},
   "source": [
    "# YOGESH"
   ]
  },
  {
   "cell_type": "code",
   "execution_count": null,
   "id": "97d18ea5-2b47-4261-86ae-af628745fd07",
   "metadata": {},
   "outputs": [],
   "source": [
    "path = '/mnt/storage/Daniele/quicat_benchmark/dna/yogesh/'"
   ]
  },
  {
   "cell_type": "markdown",
   "id": "7935c169-e178-4d04-a073-b43687c899fa",
   "metadata": {},
   "source": [
    "### bartab"
   ]
  },
  {
   "cell_type": "code",
   "execution_count": null,
   "id": "0bf91a1d-0562-4c94-af8c-1f907783e639",
   "metadata": {},
   "outputs": [],
   "source": [
    "bartab = pd.read_csv(f'{path}bartab/counts/all_counts_combined.tsv', delimiter = '\\t',).set_index('Barcode').T\n",
    "samples_bartab = bartab.index.str.replace(r'_S\\d+_L\\d+_R1_\\d+', '', regex=True)\n",
    "bartab['sample'] = samples_bartab\n",
    "bartab = bartab.groupby('sample').sum()"
   ]
  },
  {
   "cell_type": "code",
   "execution_count": null,
   "id": "ea55d5f9-b853-433f-8c3c-4e234d0af2b4",
   "metadata": {},
   "outputs": [],
   "source": [
    "sample_raw_counts = bartab.sum(axis=1)\n",
    "bartab_frequencies = bartab.div(sample_raw_counts, axis=0)*100\n",
    "barcodes_filtered_bartab = set(bartab_frequencies.columns[(bartab_frequencies > 0.001).any(axis=0)])\n",
    "barcodes_bartab_frequencies_filtered = bartab_frequencies.loc[:,list(bartab_frequencies.columns[(bartab_frequencies > 0.001).any(axis=0)])]"
   ]
  },
  {
   "cell_type": "markdown",
   "id": "98df370c-4f82-4249-8b79-d0b6b0d1a11a",
   "metadata": {},
   "source": [
    "### quicat"
   ]
  },
  {
   "cell_type": "code",
   "execution_count": null,
   "id": "21c185ad-77a9-45df-8569-a3b2ab6afcf9",
   "metadata": {},
   "outputs": [],
   "source": [
    "ad = quicat.read_dna(f'{path}quicat/barcodes_output.csv')\n",
    "barcodes_filtered_quicat = set(ad.var_names)"
   ]
  },
  {
   "cell_type": "markdown",
   "id": "d18dc3d7-da83-42de-aab3-f71e54c1cc27",
   "metadata": {},
   "source": [
    "### pycashier"
   ]
  },
  {
   "cell_type": "code",
   "execution_count": null,
   "id": "82a3fb1e-6e6f-420b-b652-647c64485c5e",
   "metadata": {},
   "outputs": [],
   "source": [
    "samples = os.listdir(f'{path}pycashier/outs/')"
   ]
  },
  {
   "cell_type": "code",
   "execution_count": null,
   "id": "ee09931e-0c80-4024-aac1-fc0975d69c3a",
   "metadata": {},
   "outputs": [],
   "source": [
    "dfs={}\n",
    "for sample in samples:\n",
    "    name = sample[:sample.find('.q20')]\n",
    "    dfs[sample] = pd.read_csv(f'{path}pycashier/outs/{sample}', delimiter='\\t').set_index('barcode')"
   ]
  },
  {
   "cell_type": "code",
   "execution_count": null,
   "id": "0bad323b-aa05-487e-9b92-6968ce7d0537",
   "metadata": {},
   "outputs": [],
   "source": [
    "pycashier = pd.concat(dfs.values(), axis=1).fillna(0).T\n",
    "pycashier.index = [sample[:sample.find('.q20')] for sample in dfs.keys()]\n",
    "samples_pycashier = pycashier.index.str.replace(r'_S\\d+_L\\d+_R1_\\d+', '', regex=True)\n",
    "pycashier['sample'] = samples_pycashier\n",
    "pycashier = pycashier.groupby('sample').sum()"
   ]
  },
  {
   "cell_type": "code",
   "execution_count": null,
   "id": "50644fb5-312d-4fb5-b5c8-ece639f17ed2",
   "metadata": {},
   "outputs": [],
   "source": [
    "sample_raw_counts = pycashier.sum(axis=1)\n",
    "pycashier_frequencies = pycashier.div(sample_raw_counts, axis=0)*100\n",
    "barcodes_filtered_pycashier = set(pycashier_frequencies.columns[(pycashier_frequencies > 0.001).any(axis=0)])\n",
    "barcodes_pycashier_frequencies_filtered = pycashier_frequencies.loc[:,list(pycashier_frequencies.columns[(pycashier_frequencies > 0.001).any(axis=0)])]"
   ]
  },
  {
   "cell_type": "markdown",
   "id": "40ead459-8d19-4037-b35e-f4ef5744ab01",
   "metadata": {},
   "source": [
    "## plot venn"
   ]
  },
  {
   "cell_type": "code",
   "execution_count": null,
   "id": "b22ce989-c965-460c-b0b9-6095abb57baa",
   "metadata": {},
   "outputs": [],
   "source": [
    "colors = ['#332288', '#DDCC77', '#CC6677', '#44AA99']"
   ]
  },
  {
   "cell_type": "code",
   "execution_count": null,
   "id": "9a90757b-ce6f-4c89-b275-e0ee6628dff9",
   "metadata": {},
   "outputs": [],
   "source": [
    "sets = {\n",
    "    'Pycashier': barcodes_filtered_pycashier,\n",
    "    'Quicat': barcodes_filtered_quicat,\n",
    "    'Bartab': barcodes_filtered_bartab,\n",
    "}\n",
    "\n",
    "venny4py(sets, dpi=300, out = f'{reports_dir}figures/fig2/', ext = 'dna_yogesh.pdf', colors = colors, line_width = .01, size = 5)"
   ]
  },
  {
   "cell_type": "code",
   "execution_count": null,
   "id": "081037eb-8d77-4c76-b82c-763a479a4d5a",
   "metadata": {},
   "outputs": [],
   "source": []
  },
  {
   "cell_type": "markdown",
   "id": "f6bac0e8-dce8-4c70-b2f3-a3a72c3b2b1b",
   "metadata": {},
   "source": [
    "## Replicates plots quicat"
   ]
  },
  {
   "cell_type": "code",
   "execution_count": null,
   "id": "09262983-acf3-45b9-b4fe-c9bbd9dc1a09",
   "metadata": {},
   "outputs": [],
   "source": [
    "sc.pp.pca(ad, n_comps = 80)"
   ]
  },
  {
   "cell_type": "code",
   "execution_count": null,
   "id": "0b9c74f2-2c99-4832-b5d0-208cc4a91e85",
   "metadata": {},
   "outputs": [],
   "source": [
    "ad.X = ad.X.todense()"
   ]
  },
  {
   "cell_type": "code",
   "execution_count": null,
   "id": "f45a24bc-4b99-4239-b85d-a9915302c646",
   "metadata": {},
   "outputs": [],
   "source": [
    "sc.tl.dendrogram(ad, groupby='sample', use_rep = 'X', cor_method='spearman')\n",
    "sc.pl.correlation_matrix(\n",
    "    ad, \n",
    "    groupby='sample', \n",
    "    cmap='coolwarm', \n",
    "    show=False,\n",
    "    vmin=0,\n",
    "    dendrogram = False,\n",
    ")\n",
    "\n",
    "plt.title('Sample Correlation Matrix', fontsize=14)\n",
    "plt.tight_layout()\n",
    "\n",
    "plt.savefig(f'{reports_dir}figures/fig2/sample_correlation_matrix.pdf', dpi=dpi, bbox_inches='tight')\n"
   ]
  },
  {
   "cell_type": "code",
   "execution_count": null,
   "id": "cf2160aa-9630-4f8f-b6da-5286747ba923",
   "metadata": {},
   "outputs": [],
   "source": [
    "sc.tl.dendrogram(ad, groupby='replicate', use_rep = 'X', cor_method='spearman')\n",
    "sc.pl.correlation_matrix(\n",
    "    ad, \n",
    "    groupby='replicate', \n",
    "    cmap='coolwarm', \n",
    "    show=False,\n",
    "    linewidth=.1,\n",
    "    #vmin=0\n",
    ")\n",
    "\n",
    "plt.title('Replicates Correlation Matrix', fontsize=14)\n",
    "plt.tight_layout()\n",
    "\n",
    "plt.savefig(f'{reports_dir}figures/fig2/replicates_correlation_matrix.pdf', dpi=dpi, bbox_inches='tight')\n"
   ]
  },
  {
   "cell_type": "markdown",
   "id": "23d1c3b4-d82e-460e-a7b5-d5c6304d262f",
   "metadata": {},
   "source": [
    "### Missing overlaps"
   ]
  },
  {
   "cell_type": "code",
   "execution_count": null,
   "id": "841c2a96-0ab8-4e0d-8306-aaec22cd8a49",
   "metadata": {},
   "outputs": [],
   "source": [
    "pycashier_unique = barcodes_filtered_pycashier - (barcodes_filtered_bartab | barcodes_filtered_quicat)"
   ]
  },
  {
   "cell_type": "code",
   "execution_count": null,
   "id": "89df57ce-e0bc-4a5c-abe1-cc7b00bea5ea",
   "metadata": {},
   "outputs": [],
   "source": [
    "lens_pycashier = [len(bc) for bc in pycashier_unique]\n",
    "uniques, counts = np.unique(lens_pycashier, return_counts=True)"
   ]
  },
  {
   "cell_type": "code",
   "execution_count": null,
   "id": "b0ba22ff-7108-4b79-8453-b482266c8a43",
   "metadata": {},
   "outputs": [],
   "source": [
    "df = pd.DataFrame({\"Unique Values\": uniques, \"Counts\": counts}).set_index(\"Unique Values\")"
   ]
  },
  {
   "cell_type": "code",
   "execution_count": null,
   "id": "5107d9e0-4d6c-448d-b995-4126c4c4910d",
   "metadata": {},
   "outputs": [],
   "source": [
    "plt.figure(figsize=(10, 6))\n",
    "kde_plot = sb.kdeplot(df.index, bw_adjust=0.5, label=\"Kernel Density of Counts\", color='skyblue')\n",
    "x_vals = kde_plot.get_lines()[0].get_data()[0]\n",
    "y_vals = kde_plot.get_lines()[0].get_data()[1]\n",
    "plt.fill_between(x_vals, 0, y_vals, color=\"orange\", alpha=0.2)\n",
    "plt.xticks(ticks=range(90,110, 5), fontsize=10)\n",
    "plt.xlabel(\"Barcodes length (bp)\",)\n",
    "plt.ylabel(\"Density\",)\n",
    "plt.title(\"Density estimation of barcodes' length\")\n",
    "plt.savefig(f'{reports_dir}figures/fig2/density_plot_pycashier_barcodes.pdf', dpi=dpi, bbox_inches='tight')\n"
   ]
  },
  {
   "cell_type": "code",
   "execution_count": null,
   "id": "85e2d8f5-73fd-4bdc-b2c9-be7af0cd249c",
   "metadata": {},
   "outputs": [],
   "source": [
    "missed_quicat = (barcodes_filtered_bartab & barcodes_filtered_pycashier) - barcodes_filtered_quicat"
   ]
  },
  {
   "cell_type": "code",
   "execution_count": null,
   "id": "945123cb-0ec9-471b-957d-ca8a9cd813e5",
   "metadata": {},
   "outputs": [],
   "source": [
    "max_values = []\n",
    "for column in barcodes_bartab_frequencies_filtered.loc[:, list(missed_quicat)].columns:\n",
    "    max_values.append(np.mean([barcodes_bartab_frequencies_filtered[column].max(), barcodes_pycashier_frequencies_filtered[column].max()]))"
   ]
  },
  {
   "cell_type": "code",
   "execution_count": null,
   "id": "4d9f1850-75ea-46d0-9200-1d8c4d941f2a",
   "metadata": {},
   "outputs": [],
   "source": [
    "uniques, counts = np.unique(max_values, return_counts=True)"
   ]
  },
  {
   "cell_type": "code",
   "execution_count": null,
   "id": "63d53bf0-99f7-4543-977f-23569d982b69",
   "metadata": {},
   "outputs": [],
   "source": [
    "df = pd.DataFrame({\"Unique Values\": uniques, \"Counts\": counts}).set_index(\"Unique Values\")"
   ]
  },
  {
   "cell_type": "code",
   "execution_count": null,
   "id": "d445d070-9e9a-42b6-8aa4-f2ae179fa38c",
   "metadata": {},
   "outputs": [],
   "source": [
    "plt.figure(figsize=(10, 6))\n",
    "kde_plot = sb.kdeplot(df.index, bw_adjust=.25, label=\"Kernel Density of Counts\", color='skyblue')\n",
    "x_vals = kde_plot.get_lines()[0].get_data()[0]\n",
    "y_vals = kde_plot.get_lines()[0].get_data()[1]\n",
    "plt.fill_between(x_vals, 0, y_vals, color=\"orange\", alpha=0.2)\n",
    "plt.xticks(ticks=np.arange(0,0.2, 0.001), fontsize=10)\n",
    "plt.xlim(0, 0.01)\n",
    "\n",
    "plt.xlabel(\"Barcodes frequencies (%)\",)\n",
    "plt.ylabel(\"Density\")\n",
    "plt.title(\"Density estimation of barcodes' frequencies\", fontsize=10)\n",
    "plt.savefig(f'{reports_dir}figures/fig2/density_plot_quicat_missed_barcodes.pdf', dpi=dpi, bbox_inches='tight')\n"
   ]
  },
  {
   "cell_type": "code",
   "execution_count": null,
   "id": "a4bc3ab3-142e-4c2c-b76e-cf282423bc78",
   "metadata": {},
   "outputs": [],
   "source": []
  },
  {
   "cell_type": "code",
   "execution_count": null,
   "id": "8a1f6d84-a35e-4584-8942-9320a0eff974",
   "metadata": {},
   "outputs": [],
   "source": [
    "missed_bartab = (barcodes_filtered_quicat & barcodes_filtered_pycashier) - barcodes_filtered_bartab"
   ]
  },
  {
   "cell_type": "code",
   "execution_count": null,
   "id": "900c315d-d64d-4c3c-a54e-69885fa12217",
   "metadata": {},
   "outputs": [],
   "source": [
    "len(missed_bartab)"
   ]
  },
  {
   "cell_type": "markdown",
   "id": "df8304ff-5629-491d-98f8-da99fe16ae20",
   "metadata": {},
   "source": [
    "# Synthetic"
   ]
  },
  {
   "cell_type": "code",
   "execution_count": null,
   "id": "1f6d882a-8c01-4471-b232-6d5e4b43f6a3",
   "metadata": {},
   "outputs": [],
   "source": [
    "path = '/mnt/storage/Daniele/quicat_benchmark/dna/synthetic/'"
   ]
  },
  {
   "cell_type": "code",
   "execution_count": null,
   "id": "2d16a8fd-b8c9-4b79-842f-fcf8f88494a5",
   "metadata": {},
   "outputs": [],
   "source": [
    "ground_truth_path = '/mnt/storage/Daniele/clonal_toolkit_data/dna/synthetic/'\n",
    "file_paths = [\n",
    "    f'{ground_truth_path}synth_1_ground_truth.csv',\n",
    "    f'{ground_truth_path}synth_2_ground_truth.csv',\n",
    "    f'{ground_truth_path}synth_3_ground_truth.csv',\n",
    "    f'{ground_truth_path}synth_4_ground_truth.csv'\n",
    "]"
   ]
  },
  {
   "cell_type": "code",
   "execution_count": null,
   "id": "2798d4cb-abb7-4179-8efa-bc80eb2206b2",
   "metadata": {},
   "outputs": [],
   "source": [
    "dfs = []\n",
    "barcodes_ground_truth = set()\n",
    "for i, file_path in enumerate(file_paths, start=1):\n",
    "    df = pd.read_csv(file_path)\n",
    "    barcodes_ground_truth.update(list(df.barcode.values))"
   ]
  },
  {
   "cell_type": "code",
   "execution_count": null,
   "id": "c81d55a1-eda6-490e-86bc-829d5ff12429",
   "metadata": {},
   "outputs": [],
   "source": [
    "len(barcodes_ground_truth)"
   ]
  },
  {
   "cell_type": "markdown",
   "id": "50263c40-48c7-49a3-97fc-fee80b0bdff1",
   "metadata": {},
   "source": [
    "### bartab"
   ]
  },
  {
   "cell_type": "code",
   "execution_count": null,
   "id": "0f151469-3a97-4b86-9f07-a9f2e470ec05",
   "metadata": {},
   "outputs": [],
   "source": [
    "\n",
    "bartab = pd.read_csv(f'{path}bartab/counts/all_counts_combined.tsv', delimiter = '\\t',).set_index('Barcode').T\n",
    "samples_bartab = bartab.index.str.replace(r'_S\\d+_L\\d+_R1_\\d+', '', regex=True)\n",
    "bartab['sample'] = samples_bartab\n",
    "bartab = bartab.groupby('sample').sum()"
   ]
  },
  {
   "cell_type": "code",
   "execution_count": null,
   "id": "bc1adffa-75e8-4f5c-b2a9-6dd0f95e9a38",
   "metadata": {},
   "outputs": [],
   "source": [
    "sample_raw_counts = bartab.sum(axis=1)\n",
    "bartab_frequencies = bartab.div(sample_raw_counts, axis=0)*100\n",
    "barcodes_filtered_bartab = set(bartab_frequencies.columns[(bartab_frequencies >= 0.001).any(axis=0)])"
   ]
  },
  {
   "cell_type": "markdown",
   "id": "80bb57f8-1509-4c63-8161-271085c20003",
   "metadata": {},
   "source": [
    "### quicat"
   ]
  },
  {
   "cell_type": "code",
   "execution_count": null,
   "id": "ae6cc0df-56de-4add-8ae0-98cea1bdebc9",
   "metadata": {},
   "outputs": [],
   "source": [
    "ad = quicat.read_dna(f'{path}quicat/barcodes_output.csv')"
   ]
  },
  {
   "cell_type": "code",
   "execution_count": null,
   "id": "7686e2c8-f1da-4cac-82ab-c767be3752df",
   "metadata": {},
   "outputs": [],
   "source": [
    "barcodes_filtered_quicat = set(ad.var_names)"
   ]
  },
  {
   "cell_type": "markdown",
   "id": "603ae89c-0c43-46e9-ae1a-8eab916dc9f3",
   "metadata": {},
   "source": [
    "### pycashier"
   ]
  },
  {
   "cell_type": "code",
   "execution_count": null,
   "id": "22b25771-7f2e-4a60-8fa2-7bc30a1e8382",
   "metadata": {},
   "outputs": [],
   "source": [
    "samples = os.listdir(f'{path}pycashier/outs/')"
   ]
  },
  {
   "cell_type": "code",
   "execution_count": null,
   "id": "bfc0a7dd-11ea-4d55-9183-ee2ddba27258",
   "metadata": {},
   "outputs": [],
   "source": [
    "dfs={}\n",
    "for sample in samples:\n",
    "    name = sample[:sample.find('_R1')]\n",
    "    dfs[name] = pd.read_csv(f'{path}pycashier/outs/{sample}', delimiter='\\t').set_index('barcode')"
   ]
  },
  {
   "cell_type": "code",
   "execution_count": null,
   "id": "9efb707a-686e-4974-9e93-39c64f1ac429",
   "metadata": {},
   "outputs": [],
   "source": [
    "pycashier = pd.concat(dfs.values(), axis=1).fillna(0).T\n",
    "pycashier['sample'] = [name for name in dfs.keys()]\n",
    "pycashier = pycashier.groupby('sample').sum()"
   ]
  },
  {
   "cell_type": "code",
   "execution_count": null,
   "id": "1d2006de-07de-4580-95e4-72ae0e24d238",
   "metadata": {},
   "outputs": [],
   "source": [
    "sample_raw_counts = pycashier.sum(axis=1)\n",
    "pycashier_frequencies = pycashier.div(sample_raw_counts, axis=0)*100\n",
    "barcodes_filtered_pycashier = set(pycashier.loc[:, (pycashier_frequencies > 0.001).any(axis=0)].columns)"
   ]
  },
  {
   "cell_type": "markdown",
   "id": "fbebb396-b753-4505-81ce-01dc6c52f195",
   "metadata": {},
   "source": [
    "## upset plot"
   ]
  },
  {
   "cell_type": "code",
   "execution_count": null,
   "id": "c03cacad-af6e-401e-a3a8-14bcf3a0371f",
   "metadata": {},
   "outputs": [],
   "source": [
    "barcode_sets = {\n",
    "    'Ground Truth': barcodes_ground_truth,\n",
    "    'Quicat': barcodes_filtered_quicat,\n",
    "    'Bartab': barcodes_filtered_bartab,\n",
    "    'Pycashier': barcodes_filtered_pycashier\n",
    "}\n",
    "\n",
    "all_barcodes = set.union(*barcode_sets.values())\n",
    "memberships = [\n",
    "    [set_name for set_name, barcode_set in barcode_sets.items() if barcode in barcode_set]\n",
    "    for barcode in all_barcodes\n",
    "]\n",
    "data = from_memberships(memberships)\n",
    "\n",
    "upset = UpSet(\n",
    "    data,\n",
    "    subset_size='sum',\n",
    "    show_counts=True,\n",
    "    element_size=None,  \n",
    "    intersection_plot_elements=6,\n",
    "    show_percentages=False,\n",
    "    other_dots_color=.1,\n",
    "    shading_color=0.01\n",
    "    #facecolor='red',\n",
    ")\n",
    "\n",
    "fig = plt.figure(figsize=(10, 6))\n",
    "upset.style_subsets(present=[\"Quicat\", \"Ground Truth\"],  edgecolor=\"red\", linewidth=1.5)\n",
    "upset.plot(fig=fig)\n",
    "\n",
    "plt.savefig(f'{reports_dir}figures/fig2/upset_plot_synth.pdf', dpi = dpi, bbox_inches='tight')\n"
   ]
  },
  {
   "cell_type": "code",
   "execution_count": null,
   "id": "867dce1e-ffcd-4e0a-92ed-795d52b1c293",
   "metadata": {},
   "outputs": [],
   "source": []
  },
  {
   "cell_type": "markdown",
   "id": "fe552002-8e50-4932-8de4-489e8183914e",
   "metadata": {},
   "source": [
    "## plot venn"
   ]
  },
  {
   "cell_type": "code",
   "execution_count": null,
   "id": "6eb01b5e-8bb9-4f53-a8a5-93ca119b8bec",
   "metadata": {},
   "outputs": [],
   "source": [
    "sets = {\n",
    "    'Pycashier': barcodes_filtered_pycashier,\n",
    "    'Quicat': barcodes_filtered_quicat,\n",
    "    'Bartab': barcodes_filtered_bartab,\n",
    "    'Ground Truth': barcodes_ground_truth,\n",
    "}\n",
    "\n",
    "venny4py(sets, dpi=300, out = f'{reports_dir}figures/fig2/', ext = 'dna_synth.pdf', colors = colors, line_width = .75, legend_cols = 4, size = 9)"
   ]
  },
  {
   "cell_type": "code",
   "execution_count": null,
   "id": "7dc273ad-7dc1-4b82-bfa5-93a12167d6e0",
   "metadata": {},
   "outputs": [],
   "source": []
  },
  {
   "cell_type": "code",
   "execution_count": null,
   "id": "f4eccdec-6d64-4ad6-bcd8-f9fd70ee697c",
   "metadata": {},
   "outputs": [],
   "source": []
  }
 ],
 "metadata": {
  "kernelspec": {
   "display_name": "Python 3 (ipykernel)",
   "language": "python",
   "name": "python3"
  },
  "language_info": {
   "codemirror_mode": {
    "name": "ipython",
    "version": 3
   },
   "file_extension": ".py",
   "mimetype": "text/x-python",
   "name": "python",
   "nbconvert_exporter": "python",
   "pygments_lexer": "ipython3",
   "version": "3.11.10"
  }
 },
 "nbformat": 4,
 "nbformat_minor": 5
}
