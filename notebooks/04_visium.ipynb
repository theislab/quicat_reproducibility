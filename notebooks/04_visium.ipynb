{
 "cells": [
  {
   "cell_type": "code",
   "execution_count": null,
   "id": "1fac47de-c62d-45b7-828d-0071c217a9bb",
   "metadata": {},
   "outputs": [],
   "source": [
    "import os\n",
    "\n",
    "import pandas as pd\n",
    "import numpy as np\n",
    "\n",
    "import scanpy as sc\n",
    "import quicat\n",
    "from scipy import sparse as sp\n",
    "import matplotlib.pyplot as plt\n",
    "import matplotlib.patches as mpatches\n",
    "import matplotlib.lines as mlines\n",
    "\n",
    "\n",
    "import seaborn as sns\n",
    "import warnings\n",
    "warnings.filterwarnings(\"ignore\")\n",
    "from collections import defaultdict"
   ]
  },
  {
   "cell_type": "code",
   "execution_count": null,
   "id": "d230f5e9-c099-466a-b6a1-7052134d3b21",
   "metadata": {},
   "outputs": [],
   "source": [
    "reports_dir = '/home/daniele/Code/github_synced/barcoding/quicat_paper_code/reports/'\n",
    "dpi = 300"
   ]
  },
  {
   "cell_type": "code",
   "execution_count": null,
   "id": "1a6dc5dc-5b94-4bcd-8735-f414ebe783ed",
   "metadata": {},
   "outputs": [],
   "source": [
    "gex_dir = \"/mnt/storage/Daniele/clonal_toolkit_data/visium/\""
   ]
  },
  {
   "cell_type": "code",
   "execution_count": null,
   "id": "59972b21-70b0-4e05-a4ce-bbd51a26a9ac",
   "metadata": {},
   "outputs": [],
   "source": [
    "quicat_output = quicat.read_sc('/mnt/storage/Daniele/quicat_benchmark/st/Ratz/quicat/barcodes_output.csv')"
   ]
  },
  {
   "cell_type": "code",
   "execution_count": null,
   "id": "656b6ea5-cf3a-4057-ade8-a7701854a288",
   "metadata": {},
   "outputs": [],
   "source": [
    "quicat_output"
   ]
  },
  {
   "cell_type": "code",
   "execution_count": null,
   "id": "f9782f94-1eaa-4f3c-b4bd-7716e27f4242",
   "metadata": {},
   "outputs": [],
   "source": [
    "quicat_output.obs['IHC'] = np.where(\n",
    "    quicat_output.obs['sample'].isin(['slide_1', 'slide_2', 'slide_3', 'slide_4']),\n",
    "    'No IHC',\n",
    "    np.where(\n",
    "        quicat_output.obs['sample'].isin(['slide_5', 'slide_6', 'slide_7', 'slide_8']),\n",
    "        'IHC',\n",
    "        quicat_output.obs['sample']\n",
    "    )\n",
    ")"
   ]
  },
  {
   "cell_type": "code",
   "execution_count": null,
   "id": "3cf55e7d-ceef-4500-bd95-ea6bd3e74d53",
   "metadata": {},
   "outputs": [],
   "source": [
    "slides = [\n",
    "    'slide_1',\n",
    "    'slide_2',\n",
    "    'slide_3',\n",
    "    'slide_4',\n",
    "    'slide_5',\n",
    "    'slide_6',\n",
    "    'slide_7',\n",
    "    'slide_8',\n",
    "]"
   ]
  },
  {
   "cell_type": "code",
   "execution_count": null,
   "id": "94cd697d-3be5-4214-8366-da5ff4973f00",
   "metadata": {},
   "outputs": [],
   "source": [
    "adatas = []\n",
    "spots = defaultdict(dict)\n",
    "for slide in slides:\n",
    "    #read anndatas\n",
    "    gep_adata = sc.read_visium(f'{gex_dir}{slide}')\n",
    "    gep_adata.var_names_make_unique()\n",
    "    #QC\n",
    "    quicat_slide = quicat_output[quicat_output.obs['sample'] == slide]\n",
    "    sc.pp.calculate_qc_metrics(quicat_slide, inplace = True, percent_top = None)\n",
    "\n",
    "    #Merging\n",
    "    quicat_slide.obs_names = [spot[:spot.find(f'_{slide}')] for spot in quicat_slide.obs_names]\n",
    "    quicat_slide = quicat_slide[list(quicat_slide.obs_names.intersection(gep_adata.obs_names))].copy()\n",
    "    gep_adata.obs['barcode_counts'], gep_adata.obs['n_barcodes_by_counts'] = quicat_slide.obs['total_counts'], quicat_slide.obs['n_genes_by_counts']\n",
    "    gep_adata.obs['barcode_counts'].fillna(0, inplace = True)\n",
    "    gep_adata.obs['n_barcodes_by_counts'] = gep_adata.obs['n_barcodes_by_counts'].fillna(0).astype(int).astype('category')\n",
    "    top_barcode_idx = [idx[0] for idx in np.argmax(quicat_slide.X, axis=1).tolist()]\n",
    "    quicat_slide.obs['top_barcode'] = [quicat_slide.var_names[idx] for idx in top_barcode_idx]\n",
    "    common_spots = list(quicat_slide.obs_names.intersection(gep_adata.obs_names))\n",
    "    quicat_slide.obsm['spatial'] = gep_adata[common_spots].obsm['spatial']\n",
    "    quicat_slide.uns['spatial'] = gep_adata[common_spots].uns['spatial']  \n",
    "    gep_adata.obs['top_barcode'] = quicat_slide.obs['top_barcode']\n",
    "    gep_adata.obs['top_barcode'] = gep_adata.obs['top_barcode'].fillna('no barcode')\n",
    "    spots[slide]['quicat'] = quicat_slide.n_obs\n",
    "    spots[slide]['total'] = gep_adata.n_obs\n",
    "    adatas.append([gep_adata, quicat_slide])"
   ]
  },
  {
   "cell_type": "code",
   "execution_count": null,
   "id": "9501a938-ec1c-4560-aa86-3110d4ab80ba",
   "metadata": {},
   "outputs": [],
   "source": [
    "data = dict(spots)"
   ]
  },
  {
   "cell_type": "code",
   "execution_count": null,
   "id": "a02fe029-58ab-48fa-a6a9-72a264f6bc8f",
   "metadata": {},
   "outputs": [],
   "source": [
    "labels = list(data.keys())\n",
    "_quicat = [data[slide]['quicat'] for slide in labels]\n",
    "_total = [data[slide]['total'] for slide in labels]\n",
    "\n",
    "bar_width = 0.4  # Width of each bar\n",
    "x = range(len(labels))\n",
    "\n",
    "colors = sns.palettes.color_palette('Set2')[:2]\n",
    "plt.figure(figsize=(12, 6))\n",
    "\n",
    "plt.bar([pos - 0.5 * bar_width for pos in x], _total, width=bar_width, color=colors[0], label='Total', edgecolor='black', alpha=0.7)\n",
    "plt.bar([pos + 0.5 * bar_width for pos in x], _quicat, width=bar_width, color=colors[1], label='Barcode positive', edgecolor='black', alpha=0.7)\n",
    "\n",
    "plt.xticks(x, labels, rotation=45, ha=\"right\")\n",
    "plt.ylabel('Visium Spots')\n",
    "plt.title('Comparison of Counts for Each Slide')\n",
    "\n",
    "plt.legend(loc='upper left', bbox_to_anchor=(1, 1))\n",
    "\n",
    "plt.tight_layout()\n",
    "plt.savefig(f'{reports_dir}figures/fig4/barplot_spots_with_detected_barcodes.pdf', dpi = dpi, bbox_inches='tight')\n",
    "plt.show()"
   ]
  },
  {
   "cell_type": "code",
   "execution_count": null,
   "id": "eb971d14-ba05-4f7e-a8ae-158990a0eb52",
   "metadata": {},
   "outputs": [],
   "source": [
    "quicat.pl.boxplot(\n",
    "    adata=quicat_output,\n",
    "    groupby='sample',\n",
    "    obs_key='total_counts',\n",
    "    hue='IHC',\n",
    "    palette='Set2',\n",
    "    figsize=(12, 8),\n",
    "    title='Gene Expression by Cell Type',\n",
    "    xlabel='Slides',\n",
    "    ylabel='barcodes counts',\n",
    "    save=f'{reports_dir}figures/fig4/boxplot_counts_per_spot_IHC_comparison.pdf',\n",
    "    dpi=dpi\n",
    ")\n"
   ]
  },
  {
   "cell_type": "markdown",
   "id": "f8686dff-deaa-4b7b-8eb2-07725a31fa82",
   "metadata": {},
   "source": [
    "### Focus 1 slide"
   ]
  },
  {
   "cell_type": "code",
   "execution_count": null,
   "id": "8dc743c4-8c5e-4f8d-83dc-aa1412556cc3",
   "metadata": {},
   "outputs": [],
   "source": [
    "gep_adata, barcode_adata = adatas[1]\n",
    "barcode_adata = barcode_adata[:,barcode_adata.var.n_cells_by_counts>0].copy()"
   ]
  },
  {
   "cell_type": "code",
   "execution_count": null,
   "id": "d0c912f4-91a6-468d-9416-c8e2bc0d9cb1",
   "metadata": {},
   "outputs": [],
   "source": [
    "sc.pp.highly_variable_genes(barcode_adata, n_top_genes=10)"
   ]
  },
  {
   "cell_type": "code",
   "execution_count": null,
   "id": "ee0977d4-573c-4528-ab73-d32fbd171cda",
   "metadata": {},
   "outputs": [],
   "source": [
    "#remove noisy ones\n",
    "barcode_adata = barcode_adata[barcode_adata.obs.n_barcodes_by_counts.isin(list(barcode_adata.obs.n_barcodes_by_counts.value_counts()[barcode_adata.obs.n_barcodes_by_counts.value_counts()>5].index))].copy()"
   ]
  },
  {
   "cell_type": "code",
   "execution_count": null,
   "id": "c791a582-c05e-4eb4-9601-9caadc7bda5f",
   "metadata": {},
   "outputs": [],
   "source": [
    "gep_adata.layers['counts'] = gep_adata.X.copy()\n",
    "sc.pp.normalize_total(gep_adata)\n",
    "sc.pp.log1p(gep_adata)\n",
    "sc.pp.pca(gep_adata, n_comps=25)\n",
    "sc.pp.neighbors(gep_adata)\n",
    "sc.tl.leiden(gep_adata, resolution = .3)\n",
    "barcode_adata.obs['leiden'] = gep_adata.obs['leiden']"
   ]
  },
  {
   "cell_type": "code",
   "execution_count": null,
   "id": "055f34bd-d896-4104-a5dc-af86905839b9",
   "metadata": {},
   "outputs": [],
   "source": [
    "sc.pl.spatial(\n",
    "    gep_adata, \n",
    "    color = ['barcode_counts'], \n",
    "    title=['barcode counts'],  \n",
    "    vmax = 25, \n",
    "    frameon=False,\n",
    "    cmap='cividis',\n",
    "    show=False,\n",
    ")\n",
    "plt.title('')\n",
    "plt.grid(False)\n",
    "plt.savefig(f'{reports_dir}figures/fig4/spatial_barcode_counts.pdf', dpi = dpi, bbox_inches='tight')"
   ]
  },
  {
   "cell_type": "code",
   "execution_count": null,
   "id": "e108376e-e88e-4506-a756-ce0b55ec5f48",
   "metadata": {},
   "outputs": [],
   "source": [
    "mapping = {}\n",
    "top5 = list(gep_adata.obs.top_barcode.value_counts().head(6).index)\n",
    "\n",
    "clone = 1\n",
    "\n",
    "for bc in gep_adata.obs.top_barcode.unique():\n",
    "    if bc not in top5:\n",
    "        mapping[bc] = 'others'\n",
    "    elif bc in top5 and bc != 'no barcode':\n",
    "        mapping[bc] = f'clone {clone}'\n",
    "        clone += 1\n",
    "    else:\n",
    "        continue\n",
    "        "
   ]
  },
  {
   "cell_type": "code",
   "execution_count": null,
   "id": "c5874bad-f214-42e8-958a-e9a2346f76b1",
   "metadata": {},
   "outputs": [],
   "source": [
    "gep_adata.obs['clone'] = gep_adata.obs.top_barcode.replace(mapping)\n",
    "gep_adata.obs['clone'] = gep_adata.obs['clone'].astype('category')\n",
    "gep_adata.obs['clone'] = gep_adata.obs['clone'].cat.reorder_categories(sorted(gep_adata.obs['clone'].unique()))"
   ]
  },
  {
   "cell_type": "markdown",
   "id": "d8e77eaa-77c9-496c-808f-c56a96937953",
   "metadata": {},
   "source": [
    "prettify"
   ]
  },
  {
   "cell_type": "code",
   "execution_count": null,
   "id": "2aad065f-0dd1-4c84-a5b5-e7aa228906e7",
   "metadata": {},
   "outputs": [],
   "source": [
    "quicat.pl.stacked_barplot(\n",
    "    adata=gep_adata,\n",
    "    groupby='leiden',\n",
    "    obs_key='clone',\n",
    "    figsize=(12, 6),\n",
    "    xlabel='Leiden Cluster',\n",
    "    ylabel='Clones frequencies (%)',\n",
    "    title='',\n",
    "    palette = palette,\n",
    "    edgecolor='black',        \n",
    "    linewidth=1.5,  \n",
    "    dpi=dpi,\n",
    "    save = f'{reports_dir}figures/fig4/stacked_barplot_leiden_by_clone.pdf'         \n",
    ")"
   ]
  },
  {
   "cell_type": "code",
   "execution_count": null,
   "id": "29f7a54b-ec19-424a-9a45-6dff2003ac28",
   "metadata": {},
   "outputs": [],
   "source": [
    "sc.pl.spatial(\n",
    "    gep_adata, \n",
    "    color = ['leiden'], \n",
    "    vmax = 50, \n",
    "    frameon=False,\n",
    "    cmap='cividis',\n",
    "    show=False\n",
    ")\n",
    "plt.title('')\n",
    "plt.grid(False)\n",
    "plt.savefig(f'{reports_dir}figures/fig4/spatial_leiden.pdf', dpi = dpi, bbox_inches='tight')"
   ]
  },
  {
   "cell_type": "code",
   "execution_count": null,
   "id": "0741370e-c125-426c-979e-f904e926e1f9",
   "metadata": {},
   "outputs": [],
   "source": [
    "violin = sc.pl.violin(\n",
    "    gep_adata, \n",
    "    groupby='leiden', \n",
    "    keys='n_barcodes_by_counts', \n",
    "    show=False\n",
    ")\n",
    "\n",
    "plt.gca().invert_yaxis()\n",
    "plt.title('')\n",
    "plt.xlabel('Leiden Cluster')\n",
    "plt.ylabel('barcodes per spot')\n",
    "plt.xticks(fontsize=8)\n",
    "plt.yticks(fontsize=8)\n",
    "\n",
    "plt.tight_layout()\n",
    "plt.savefig(f'{reports_dir}figures/fig4/violin_plot_nr_of_barcodes_per_spot_by_leiden_cluster.pdf', dpi=300, bbox_inches='tight')\n",
    "plt.show()"
   ]
  },
  {
   "cell_type": "code",
   "execution_count": null,
   "id": "dfdf4f60-f2d9-4efd-a01f-acdf09d06f3a",
   "metadata": {},
   "outputs": [],
   "source": [
    "quicat.pl.barplot(\n",
    "    barcode_adata, \n",
    "    groupby = 'n_barcodes_by_counts', \n",
    "    color = '#DDCC77',\n",
    "    xlabel = 'barcodes per spot', \n",
    "    edgecolor='black',      \n",
    "    save = f'{reports_dir}figures/fig4/barplot_nr_of_barcode_focus_1_slide.pdf'\n",
    ")"
   ]
  },
  {
   "cell_type": "code",
   "execution_count": null,
   "id": "3f3d2ee2-cb27-4f26-8e52-381afd7bc65d",
   "metadata": {},
   "outputs": [],
   "source": [
    "gep_adata.uns['top_barcode_colors'] = ['fff5f0'] * 20"
   ]
  },
  {
   "cell_type": "code",
   "execution_count": null,
   "id": "29dc7429-7fb4-4ebc-9a7a-d8b33fc26ac0",
   "metadata": {},
   "outputs": [],
   "source": [
    "bc_count = 1\n",
    "for bc in top5[1:]:\n",
    "    ax = sc.pl.spatial(\n",
    "        gep_adata, \n",
    "        color=['top_barcode'], \n",
    "        groups=[bc],\n",
    "        title=['barcode counts'],  \n",
    "        vmax=25, \n",
    "        frameon=False,\n",
    "        show=False,\n",
    "        na_in_legend=False,\n",
    "        palette=['#FF0000'],\n",
    "        alpha_img = .5,\n",
    "        legend_loc=None\n",
    "    )\n",
    "    plt.title(f'barcode {bc_count}')\n",
    "    plt.grid(False)\n",
    "    handles, labels = plt.gca().get_legend_handles_labels()\n",
    "    new_labels = [f'barcode {bc_count}']\n",
    "    bc_count += 1\n",
    "    plt.savefig(f'{reports_dir}figures/fig4/spatial_clone_{bc_count}_distribution.pdf', dpi=dpi, bbox_inches='tight')\n",
    "\n",
    "plt.show()"
   ]
  },
  {
   "cell_type": "code",
   "execution_count": null,
   "id": "e8f96881-a0f1-410a-8cb3-44c04cc12a1e",
   "metadata": {},
   "outputs": [],
   "source": []
  }
 ],
 "metadata": {
  "kernelspec": {
   "display_name": "Python 3 (ipykernel)",
   "language": "python",
   "name": "python3"
  },
  "language_info": {
   "codemirror_mode": {
    "name": "ipython",
    "version": 3
   },
   "file_extension": ".py",
   "mimetype": "text/x-python",
   "name": "python",
   "nbconvert_exporter": "python",
   "pygments_lexer": "ipython3",
   "version": "3.11.10"
  }
 },
 "nbformat": 4,
 "nbformat_minor": 5
}
